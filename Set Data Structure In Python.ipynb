{
 "cells": [
  {
   "cell_type": "markdown",
   "id": "a043a760",
   "metadata": {},
   "source": [
    "# Set Data Structure"
   ]
  },
  {
   "cell_type": "code",
   "execution_count": 1,
   "id": "79403512",
   "metadata": {},
   "outputs": [
    {
     "name": "stdout",
     "output_type": "stream",
     "text": [
      "<class 'set'>\n",
      "{1, 2, 3, 4, 5, 6, 7}\n"
     ]
    }
   ],
   "source": [
    "# Set is defined by using a pair of braces { }, and its elements are separated by commas.\n",
    "Random_Numbers={1, 2, 2, 3, 3, 4, 5, 6, 7, 2}\n",
    "print(type(Random_Numbers))\n",
    "print(Random_Numbers) # Set is used to find out the unique elements in a string, list, or tuple."
   ]
  },
  {
   "cell_type": "code",
   "execution_count": 2,
   "id": "73d457d9",
   "metadata": {},
   "outputs": [
    {
     "name": "stdout",
     "output_type": "stream",
     "text": [
      "<class 'list'>\n",
      "[1, 2, 2, 3, 3, 3, 4, 4, 4, 4, 5, 5, 5, 5, 5]\n",
      "<class 'set'>\n",
      "{1, 2, 3, 4, 5}\n"
     ]
    }
   ],
   "source": [
    "# Finding the unique elements in list using set\n",
    "Num_List=[1,2,2,3,3,3,4,4,4,4,5,5,5,5,5]\n",
    "print(type(Num_List))\n",
    "print(Num_List)\n",
    "Num_Set=set(Num_List)\n",
    "print(type(Num_Set))\n",
    "print(Num_Set)"
   ]
  },
  {
   "cell_type": "code",
   "execution_count": 3,
   "id": "dc702b1c",
   "metadata": {},
   "outputs": [
    {
     "name": "stdout",
     "output_type": "stream",
     "text": [
      "<class 'list'>\n",
      "(1, 2, 2, 3, 3, 3, 4, 4, 4, 4, 5, 5, 5, 5, 5)\n",
      "<class 'list'>\n",
      "{1, 2, 3, 4, 5}\n"
     ]
    }
   ],
   "source": [
    "# Finding the unique elements in tuple using set\n",
    "Num_Tuple=(1,2,2,3,3,3,4,4,4,4,5,5,5,5,5)\n",
    "print(type(Num_List))\n",
    "print(Num_Tuple)\n",
    "Num_Set=set(Num_Tuple)\n",
    "print(type(Num_List))\n",
    "print(Num_Set)"
   ]
  },
  {
   "cell_type": "code",
   "execution_count": 4,
   "id": "0dd29133",
   "metadata": {},
   "outputs": [
    {
     "name": "stdout",
     "output_type": "stream",
     "text": [
      "<class 'str'>\n",
      "SET DATA STRUCTURE\n",
      "<class 'set'>\n",
      "{'D', 'U', 'E', 'R', 'C', ' ', 'T', 'A', 'S'}\n"
     ]
    }
   ],
   "source": [
    "# Finding the unique character in string using set\n",
    "alphabet_string='SET DATA STRUCTURE'\n",
    "print(type(alphabet_string))\n",
    "print(alphabet_string)\n",
    "alphabet_set=set(alphabet_string)\n",
    "print(type(alphabet_set))\n",
    "print(alphabet_set)"
   ]
  },
  {
   "cell_type": "code",
   "execution_count": 5,
   "id": "8a6cc346",
   "metadata": {},
   "outputs": [
    {
     "data": {
      "text/plain": [
       "{0, 1, 2, 3, 4, 5, 6, 7, 8, 9}"
      ]
     },
     "execution_count": 5,
     "metadata": {},
     "output_type": "execute_result"
    }
   ],
   "source": [
    "# Getting the union of two sets\n",
    "set_1={0,1,2,3}\n",
    "set_2={1,2,3,4,5,6,7,8,9}\n",
    "set_1.union(set_2) # Returns the union of the two sets"
   ]
  },
  {
   "cell_type": "code",
   "execution_count": 6,
   "id": "06f61f9d",
   "metadata": {},
   "outputs": [
    {
     "data": {
      "text/plain": [
       "{1, 2, 3}"
      ]
     },
     "execution_count": 6,
     "metadata": {},
     "output_type": "execute_result"
    }
   ],
   "source": [
    "# Getting the intersection of two sets\n",
    "set_1={0,1,2,3}\n",
    "set_2={1,2,3,4,5,6,7,8,9}\n",
    "set_1.intersection(set_2) # Returns the intersection of the two sets"
   ]
  },
  {
   "cell_type": "code",
   "execution_count": 7,
   "id": "0a42e69b",
   "metadata": {},
   "outputs": [
    {
     "data": {
      "text/plain": [
       "False"
      ]
     },
     "execution_count": 7,
     "metadata": {},
     "output_type": "execute_result"
    }
   ],
   "source": [
    "# Checking whether a set is the subset of a another set\n",
    "set_1.issubset(set_2) # Returns a Boolean value based on the two sets"
   ]
  }
 ],
 "metadata": {
  "kernelspec": {
   "display_name": "Python 3 (ipykernel)",
   "language": "python",
   "name": "python3"
  },
  "language_info": {
   "codemirror_mode": {
    "name": "ipython",
    "version": 3
   },
   "file_extension": ".py",
   "mimetype": "text/x-python",
   "name": "python",
   "nbconvert_exporter": "python",
   "pygments_lexer": "ipython3",
   "version": "3.9.7"
  }
 },
 "nbformat": 4,
 "nbformat_minor": 5
}
