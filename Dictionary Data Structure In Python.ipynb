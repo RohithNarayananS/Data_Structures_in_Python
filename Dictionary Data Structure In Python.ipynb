{
 "cells": [
  {
   "cell_type": "markdown",
   "id": "865e0c46",
   "metadata": {},
   "source": [
    "# Dictionary Data Structure"
   ]
  },
  {
   "cell_type": "code",
   "execution_count": 1,
   "id": "88888768",
   "metadata": {},
   "outputs": [
    {
     "name": "stdout",
     "output_type": "stream",
     "text": [
      "{1: 'i', 2: 'ii', 3: 'iii', 4: 'iv', 5: 'v'}\n"
     ]
    },
    {
     "data": {
      "text/plain": [
       "dict"
      ]
     },
     "execution_count": 1,
     "metadata": {},
     "output_type": "execute_result"
    }
   ],
   "source": [
    "# In Dictionary Elements Exists In Key, Value Pair\n",
    "dict1={1:'i',2:'ii',3:'iii',4:'iv',5:'v'}\n",
    "print(dict1)\n",
    "type(dict1)"
   ]
  },
  {
   "cell_type": "code",
   "execution_count": 2,
   "id": "f67f1f13",
   "metadata": {},
   "outputs": [
    {
     "data": {
      "text/plain": [
       "'a'"
      ]
     },
     "execution_count": 2,
     "metadata": {},
     "output_type": "execute_result"
    }
   ],
   "source": [
    "# Indexing using []\n",
    "dict2={1:'a',2:'b',3:'c',4:'d',5:'e'}\n",
    "dict2[1]"
   ]
  },
  {
   "cell_type": "code",
   "execution_count": 3,
   "id": "9e87b9c9",
   "metadata": {},
   "outputs": [
    {
     "name": "stdout",
     "output_type": "stream",
     "text": [
      "{1: 'A', 2: 'b', 3: 'c', 4: 'd', 5: 'e'}\n"
     ]
    }
   ],
   "source": [
    "# Dictionaries are mutable\n",
    "dict2={1:'a',2:'b',3:'c',4:'d',5:'e'}\n",
    "dict2[1]='A' # Here we are updating a existing value using ait's key\n",
    "print(dict2)"
   ]
  },
  {
   "cell_type": "markdown",
   "id": "d9e40493",
   "metadata": {},
   "source": [
    "## Dictionary Oprations:"
   ]
  },
  {
   "cell_type": "code",
   "execution_count": 4,
   "id": "0dec5ca6",
   "metadata": {},
   "outputs": [
    {
     "name": "stdout",
     "output_type": "stream",
     "text": [
      "{1: 'a', 2: 'b', 3: 'c', 4: 'd', 5: 'e', 6: 'f'}\n"
     ]
    }
   ],
   "source": [
    "# Adding an element to a Dictionary\n",
    "dict2={1:'a',2:'b',3:'c',4:'d',5:'e'}\n",
    "dict2[6]='f' # Here we are adding a element to the dictionary at the end\n",
    "print(dict2)"
   ]
  },
  {
   "cell_type": "code",
   "execution_count": 5,
   "id": "a7859b17",
   "metadata": {},
   "outputs": [
    {
     "name": "stdout",
     "output_type": "stream",
     "text": [
      "{1: 'i', 2: 'ii', 4: 'iv', 5: 'v'}\n"
     ]
    }
   ],
   "source": [
    "# Removing an Element from a Dictionary\n",
    "dict1={1:'i',2:'ii',3:'iii',4:'iv',5:'v'}\n",
    "del dict1[3] # Here we are removing the element with the key 3\n",
    "print(dict1)"
   ]
  },
  {
   "cell_type": "code",
   "execution_count": 6,
   "id": "5e5f0f29",
   "metadata": {},
   "outputs": [
    {
     "name": "stdout",
     "output_type": "stream",
     "text": [
      "{'bitty': 2, 'bought': 2, 'some': 2, 'butter': 4, 'the': 2, 'was': 1, 'bitter': 2, 'so': 1, 'more': 1, 'to': 1, 'make': 1, 'better': 1}\n"
     ]
    }
   ],
   "source": [
    "# Word Counting Using Dictionary\n",
    "toung_twister=\"bitty bought some butter the butter was bitter so bitty bought some more butter to make the bitter butter better\"\n",
    "# Above we have created a String Variable\n",
    "Word_Count={} # Here we are initializing an empty dictionary object\n",
    "for word in toung_twister.split(): # Program for word counter using Dictionary Object\n",
    "    if word not in Word_Count:\n",
    "        Word_Count[word]=1\n",
    "    else:\n",
    "        Word_Count[word]+=1\n",
    "print(Word_Count)"
   ]
  },
  {
   "cell_type": "markdown",
   "id": "9c88f115",
   "metadata": {},
   "source": [
    "## Using Default Dictionary:"
   ]
  },
  {
   "cell_type": "code",
   "execution_count": 7,
   "id": "24680434",
   "metadata": {},
   "outputs": [
    {
     "name": "stdout",
     "output_type": "stream",
     "text": [
      "defaultdict(<class 'int'>, {'bitty': 2, 'bought': 2, 'some': 2, 'butter': 4, 'the': 2, 'was': 1, 'bitter': 2, 'so': 1, 'more': 1, 'to': 1, 'make': 1, 'better': 1})\n"
     ]
    }
   ],
   "source": [
    "from collections import defaultdict # To use defaultdict we need to import it from colection module\n",
    "toung_twister=\"bitty bought some butter the butter was bitter so bitty bought some more butter to make the bitter butter better\"\n",
    "word_count=defaultdict(int) # Initialise an empty dictionary oblject\n",
    "for word in toung_twister.split(): # We will perform a word count using dictionary object\n",
    "    word_count[word]+=1\n",
    "print(word_count)"
   ]
  },
  {
   "cell_type": "code",
   "execution_count": 8,
   "id": "ddb4b4e6",
   "metadata": {},
   "outputs": [
    {
     "name": "stdout",
     "output_type": "stream",
     "text": [
      "bitty 2\n",
      "bought 2\n",
      "some 2\n",
      "butter 4\n",
      "the 2\n",
      "was 1\n",
      "bitter 2\n",
      "so 1\n",
      "more 1\n",
      "to 1\n",
      "make 1\n",
      "better 1\n"
     ]
    }
   ],
   "source": [
    "# Looping through the Dictionary\n",
    "from collections import defaultdict # To use defaultdict we need to import it from colection module\n",
    "toung_twister=\"bitty bought some butter the butter was bitter so bitty bought some more butter to make the bitter butter better\"\n",
    "word_count=defaultdict(int) # Initialise an empty dictionary oblject\n",
    "for word in toung_twister.split(): # We will perform a word count using dictionary object\n",
    "    word_count[word]+=1\n",
    "for key, value in word_count.items():\n",
    "    print(key,value)"
   ]
  },
  {
   "cell_type": "markdown",
   "id": "a7cfa4d6",
   "metadata": {},
   "source": [
    "## Operations in Dictionary:"
   ]
  },
  {
   "cell_type": "code",
   "execution_count": 9,
   "id": "cdc8b09f",
   "metadata": {},
   "outputs": [
    {
     "name": "stdout",
     "output_type": "stream",
     "text": [
      "5\n",
      "{1: 'i', 2: 'ii', 3: 'iii', 4: 'iv', 5: 'v'}\n",
      "<class 'dict'>\n"
     ]
    }
   ],
   "source": [
    "# Operations in DIctionary\n",
    "dict1={1:'i',2:'ii',3:'iii',4:'iv',5:'v'}\n",
    "print(len(dict1))  # Used to Find the length of Dictionary\n",
    "print(str(dict1))  # Used to Convert dictionary into printable string representation\n",
    "print(type(dict1)) # Used to Check the type of Dict1"
   ]
  },
  {
   "cell_type": "code",
   "execution_count": 10,
   "id": "41b7bd50",
   "metadata": {},
   "outputs": [
    {
     "data": {
      "text/plain": [
       "{}"
      ]
     },
     "execution_count": 10,
     "metadata": {},
     "output_type": "execute_result"
    }
   ],
   "source": [
    "# Using clear() function to Delete all items in the Dictionary\n",
    "dict1={1:'i',2:'ii',3:'iii',4:'iv',5:'v'}\n",
    "dict1.clear()\n",
    "dict1"
   ]
  },
  {
   "cell_type": "code",
   "execution_count": 11,
   "id": "9a6fdd2f",
   "metadata": {},
   "outputs": [
    {
     "name": "stdout",
     "output_type": "stream",
     "text": [
      "{1: 'i', 2: 'ii', 3: 'iii', 4: 'iv', 5: 'v'}\n"
     ]
    },
    {
     "data": {
      "text/plain": [
       "dict"
      ]
     },
     "execution_count": 11,
     "metadata": {},
     "output_type": "execute_result"
    }
   ],
   "source": [
    "# Using copy() function to Create a Shallow copy of the Dictionary\n",
    "dict1={1:'i',2:'ii',3:'iii',4:'iv',5:'v'}\n",
    "dict2=dict1.copy()\n",
    "print(dict2)\n",
    "type(dict2)"
   ]
  },
  {
   "cell_type": "code",
   "execution_count": 12,
   "id": "7829e741",
   "metadata": {},
   "outputs": [
    {
     "data": {
      "text/plain": [
       "dict_keys([1, 2, 3, 4, 5])"
      ]
     },
     "execution_count": 12,
     "metadata": {},
     "output_type": "execute_result"
    }
   ],
   "source": [
    "# Using key() function to get the keys of a Dictionary\n",
    "roman_numbers={1:'i',2:'ii',3:'iii',4:'iv',5:'v'}\n",
    "roman_numbers.keys() "
   ]
  },
  {
   "cell_type": "code",
   "execution_count": 13,
   "id": "d442c602",
   "metadata": {},
   "outputs": [
    {
     "data": {
      "text/plain": [
       "dict_values(['i', 'ii', 'iii', 'iv', 'v'])"
      ]
     },
     "execution_count": 13,
     "metadata": {},
     "output_type": "execute_result"
    }
   ],
   "source": [
    "# Using value() function to get the values() of a Dictionary\n",
    "roman_numbers={1:'i',2:'ii',3:'iii',4:'iv',5:'v'}\n",
    "roman_numbers.values()"
   ]
  },
  {
   "cell_type": "code",
   "execution_count": 14,
   "id": "0e14d08c",
   "metadata": {},
   "outputs": [
    {
     "data": {
      "text/plain": [
       "dict_items([(1, 'i'), (2, 'ii'), (3, 'iii'), (4, 'iv'), (5, 'v')])"
      ]
     },
     "execution_count": 14,
     "metadata": {},
     "output_type": "execute_result"
    }
   ],
   "source": [
    "# Using items() function to get the values() of a Dictionary\\\n",
    "roman_numbers={1:'i',2:'ii',3:'iii',4:'iv',5:'v'}\n",
    "roman_numbers.items()"
   ]
  },
  {
   "cell_type": "code",
   "execution_count": 15,
   "id": "79f04f1f",
   "metadata": {},
   "outputs": [
    {
     "name": "stdout",
     "output_type": "stream",
     "text": [
      "roman_value iii\n",
      "roman_value None\n"
     ]
    }
   ],
   "source": [
    "# Retrieveing a particular value from Dictionary using it's key\n",
    "roman_numbers={1:'i',2:'ii',3:'iii',4:'iv',5:'v'}\n",
    "print(\"roman_value\",roman_numbers.get(3))\n",
    "print(\"roman_value\",roman_numbers.get(0)) # There is no key called '0' in roman_numbers, thus get() returns 'None' as output"
   ]
  },
  {
   "cell_type": "code",
   "execution_count": 16,
   "id": "fc75ee48",
   "metadata": {},
   "outputs": [
    {
     "data": {
      "text/plain": [
       "{1: 'i', 2: 'ii', 3: 'iii', 4: 'iv', 5: 'v', 6: 'vi'}"
      ]
     },
     "execution_count": 16,
     "metadata": {},
     "output_type": "execute_result"
    }
   ],
   "source": [
    "# Set a default key which is not in the dictionary\n",
    "roman_numbers={1:'i',2:'ii',3:'iii',4:'iv',5:'v'}\n",
    "roman_numbers.setdefault(6,'vi') # Set a key '6' with default price \n",
    "roman_numbers"
   ]
  }
 ],
 "metadata": {
  "kernelspec": {
   "display_name": "Python 3 (ipykernel)",
   "language": "python",
   "name": "python3"
  },
  "language_info": {
   "codemirror_mode": {
    "name": "ipython",
    "version": 3
   },
   "file_extension": ".py",
   "mimetype": "text/x-python",
   "name": "python",
   "nbconvert_exporter": "python",
   "pygments_lexer": "ipython3",
   "version": "3.9.7"
  }
 },
 "nbformat": 4,
 "nbformat_minor": 5
}
