{
 "cells": [
  {
   "cell_type": "markdown",
   "id": "277cf9bd",
   "metadata": {},
   "source": [
    "# List Data Structures"
   ]
  },
  {
   "cell_type": "markdown",
   "id": "8704569e",
   "metadata": {},
   "source": [
    "## Operations and Functions in List:"
   ]
  },
  {
   "cell_type": "code",
   "execution_count": 1,
   "id": "54bb7864",
   "metadata": {},
   "outputs": [
    {
     "data": {
      "text/plain": [
       "list"
      ]
     },
     "execution_count": 1,
     "metadata": {},
     "output_type": "execute_result"
    }
   ],
   "source": [
    "# List is heterogeneos\n",
    "list=[1,2.3,4.567,True,\"abcd\",'1234', 1-2j] # Computer identifies list only by the []\n",
    "type(list)"
   ]
  },
  {
   "cell_type": "code",
   "execution_count": 2,
   "id": "b09a6d64",
   "metadata": {},
   "outputs": [
    {
     "name": "stdout",
     "output_type": "stream",
     "text": [
      "[1, 'peace', 4.567, True, 'abcd', '1234', (1-2j)]\n"
     ]
    }
   ],
   "source": [
    "# List is mutable\n",
    "list[1]=(\"peace\")\n",
    "print(list)"
   ]
  },
  {
   "cell_type": "code",
   "execution_count": 3,
   "id": "0a0584b0",
   "metadata": {},
   "outputs": [
    {
     "name": "stdout",
     "output_type": "stream",
     "text": [
      "[1, 'peace', 4.567, True, 'abcd', '1234', (1-2j), 'peace']\n"
     ]
    }
   ],
   "source": [
    "# List allows duplicate\n",
    "list.append(\"peace\")\n",
    "print(list)"
   ]
  },
  {
   "cell_type": "code",
   "execution_count": 4,
   "id": "c7609e47",
   "metadata": {},
   "outputs": [
    {
     "name": "stdout",
     "output_type": "stream",
     "text": [
      "[1, 'peace', 4.567, True, 'abcd']\n",
      "1234\n"
     ]
    }
   ],
   "source": [
    "# Can be accessed using indexing and slicing\n",
    "print(list[0:5])\n",
    "print(list[5])"
   ]
  },
  {
   "cell_type": "code",
   "execution_count": 5,
   "id": "a14943c1",
   "metadata": {},
   "outputs": [
    {
     "name": "stdout",
     "output_type": "stream",
     "text": [
      "['chapathi', 'parota', 'fried rice', 'sambar']\n"
     ]
    },
    {
     "data": {
      "text/plain": [
       "list"
      ]
     },
     "execution_count": 5,
     "metadata": {},
     "output_type": "execute_result"
    }
   ],
   "source": [
    "# Creaing a list\n",
    "lunch_list=[\"chapathi\",\"parota\",\"fried rice\",\"sambar\"]\n",
    "print(lunch_list)\n",
    "type(lunch_list)"
   ]
  },
  {
   "cell_type": "code",
   "execution_count": 6,
   "id": "7cf47be9",
   "metadata": {},
   "outputs": [
    {
     "name": "stdout",
     "output_type": "stream",
     "text": [
      "['chapathi', 'parota', 'fried rice', 'sambar', 'curd rice', 'poori', 'dosa', 'idly']\n"
     ]
    },
    {
     "data": {
      "text/plain": [
       "list"
      ]
     },
     "execution_count": 6,
     "metadata": {},
     "output_type": "execute_result"
    }
   ],
   "source": [
    "# Creating two lists and concatenating them using + operator\n",
    "lunch_list=[\"chapathi\",\"parota\",\"fried rice\",\"sambar\"]\n",
    "diner_list=[\"curd rice\",\"poori\",\"dosa\",\"idly\"]\n",
    "food_list=lunch_list+diner_list\n",
    "print(food_list)\n",
    "type(food_list)"
   ]
  },
  {
   "cell_type": "code",
   "execution_count": 7,
   "id": "ea629cd8",
   "metadata": {},
   "outputs": [
    {
     "name": "stdout",
     "output_type": "stream",
     "text": [
      "['chapathi', 'parota', 'fried rice', 'sambar', 'rasam']\n"
     ]
    }
   ],
   "source": [
    "# Inserting element in list\n",
    "lunch_list.append(\"rasam\")\n",
    "print(lunch_list)"
   ]
  },
  {
   "cell_type": "code",
   "execution_count": 8,
   "id": "742d663b",
   "metadata": {},
   "outputs": [
    {
     "data": {
      "text/plain": [
       "[0, 2, 3, 4, 4.5, 5, 6.1, 6.7, 76, 78]"
      ]
     },
     "execution_count": 8,
     "metadata": {},
     "output_type": "execute_result"
    }
   ],
   "source": [
    "# Sorting numeric list using sort()\n",
    "num_list=[3,2,5,6.7,4,78,76,0,4.5,6.1]\n",
    "num_list.sort()\n",
    "num_list"
   ]
  },
  {
   "cell_type": "code",
   "execution_count": 9,
   "id": "7d9ab468",
   "metadata": {},
   "outputs": [
    {
     "data": {
      "text/plain": [
       "['A', 'G', 'a', 'b', 'd', 'g', 'ge', 'gr']"
      ]
     },
     "execution_count": 9,
     "metadata": {},
     "output_type": "execute_result"
    }
   ],
   "source": [
    "# Sorting str list using sort()\n",
    "str_list=['a','d','g','b','gr','ge','G','A']\n",
    "str_list.sort()\n",
    "str_list"
   ]
  },
  {
   "cell_type": "code",
   "execution_count": 10,
   "id": "049311d5",
   "metadata": {},
   "outputs": [
    {
     "data": {
      "text/plain": [
       "['gr', 'ge', 'g', 'd', 'b', 'a', 'G', 'A']"
      ]
     },
     "execution_count": 10,
     "metadata": {},
     "output_type": "execute_result"
    }
   ],
   "source": [
    "# Sorting str list using sort(),reverse=true\n",
    "str_list=['a','d','g','b','gr','ge','G','A']\n",
    "str_list.sort(reverse=True)\n",
    "str_list"
   ]
  },
  {
   "cell_type": "code",
   "execution_count": 11,
   "id": "13204b5d",
   "metadata": {},
   "outputs": [
    {
     "ename": "TypeError",
     "evalue": "'<' not supported between instances of 'str' and 'float'",
     "output_type": "error",
     "traceback": [
      "\u001b[1;31m---------------------------------------------------------------------------\u001b[0m",
      "\u001b[1;31mTypeError\u001b[0m                                 Traceback (most recent call last)",
      "\u001b[1;32m~\\AppData\\Local\\Temp/ipykernel_10308/1963220616.py\u001b[0m in \u001b[0;36m<module>\u001b[1;34m\u001b[0m\n\u001b[0;32m      1\u001b[0m \u001b[1;31m# Sorting a mixed datatype list\u001b[0m\u001b[1;33m\u001b[0m\u001b[1;33m\u001b[0m\u001b[0m\n\u001b[0;32m      2\u001b[0m \u001b[0mlist\u001b[0m\u001b[1;33m=\u001b[0m\u001b[1;33m[\u001b[0m\u001b[1;36m1\u001b[0m\u001b[1;33m,\u001b[0m\u001b[1;36m2.3\u001b[0m\u001b[1;33m,\u001b[0m\u001b[1;36m4.567\u001b[0m\u001b[1;33m,\u001b[0m\u001b[1;32mTrue\u001b[0m\u001b[1;33m,\u001b[0m\u001b[1;34m\"abcd\"\u001b[0m\u001b[1;33m,\u001b[0m\u001b[1;34m'1234'\u001b[0m\u001b[1;33m,\u001b[0m \u001b[1;36m1\u001b[0m\u001b[1;33m-\u001b[0m\u001b[1;36m2j\u001b[0m\u001b[1;33m]\u001b[0m\u001b[1;33m\u001b[0m\u001b[1;33m\u001b[0m\u001b[0m\n\u001b[1;32m----> 3\u001b[1;33m \u001b[0mlist\u001b[0m\u001b[1;33m.\u001b[0m\u001b[0msort\u001b[0m\u001b[1;33m(\u001b[0m\u001b[1;33m)\u001b[0m \u001b[1;31m#error occured due to presence of both str and float\u001b[0m\u001b[1;33m\u001b[0m\u001b[1;33m\u001b[0m\u001b[0m\n\u001b[0m\u001b[0;32m      4\u001b[0m \u001b[0mprint\u001b[0m\u001b[1;33m(\u001b[0m\u001b[0mlist\u001b[0m\u001b[1;33m)\u001b[0m\u001b[1;33m\u001b[0m\u001b[1;33m\u001b[0m\u001b[0m\n",
      "\u001b[1;31mTypeError\u001b[0m: '<' not supported between instances of 'str' and 'float'"
     ]
    }
   ],
   "source": [
    "# Sorting a mixed datatype list\n",
    "list=[1,2.3,4.567,True,\"abcd\",'1234', 1-2j]\n",
    "list.sort() #error occured due to presence of both str and float\n",
    "print(list) "
   ]
  },
  {
   "cell_type": "code",
   "execution_count": 12,
   "id": "517f7aee",
   "metadata": {},
   "outputs": [
    {
     "data": {
      "text/plain": [
       "[0, 2, 3, 4, 4.5, 5, 6.1, 6.7, 76, 78]"
      ]
     },
     "execution_count": 12,
     "metadata": {},
     "output_type": "execute_result"
    }
   ],
   "source": [
    "# Sorting a list using sorted() method\n",
    "num_list=[3,2,5,6.7,4,78,76,0,4.5,6.1]\n",
    "num_list_sorted=sorted(num_list)\n",
    "num_list_sorted"
   ]
  },
  {
   "cell_type": "code",
   "execution_count": 13,
   "id": "2db7fca1",
   "metadata": {},
   "outputs": [
    {
     "data": {
      "text/plain": [
       "[78, 76, 6.7, 6.1, 5, 4.5, 4, 3, 2, 0]"
      ]
     },
     "execution_count": 13,
     "metadata": {},
     "output_type": "execute_result"
    }
   ],
   "source": [
    "# Sorting list using sorted(),reverse=true\n",
    "num_list=[3,2,5,6.7,4,78,76,0,4.5,6.1]\n",
    "num_list_sorted=sorted(num_list,reverse=True)\n",
    "num_list_sorted"
   ]
  },
  {
   "cell_type": "code",
   "execution_count": 14,
   "id": "d661ea66",
   "metadata": {},
   "outputs": [
    {
     "name": "stdout",
     "output_type": "stream",
     "text": [
      "True\n"
     ]
    }
   ],
   "source": [
    "# Using membership operator(in) to check the presence of a particular element (String List)\n",
    "apl=['a','f','g','e','j','m','v']\n",
    "print(\"f\"in apl)"
   ]
  },
  {
   "cell_type": "code",
   "execution_count": 15,
   "id": "79e13a0f",
   "metadata": {},
   "outputs": [
    {
     "name": "stdout",
     "output_type": "stream",
     "text": [
      "False\n"
     ]
    }
   ],
   "source": [
    "# Using membership operator(not) to check the presence of a particular element (String List)\n",
    "apl=['a','f','g','e','j','m','v']\n",
    "print(\"j\" not in apl)"
   ]
  },
  {
   "cell_type": "code",
   "execution_count": 16,
   "id": "ec3c2f7b",
   "metadata": {},
   "outputs": [
    {
     "name": "stdout",
     "output_type": "stream",
     "text": [
      "False\n"
     ]
    }
   ],
   "source": [
    "# Using membership operator(in) to check the presence of a particular element (Num List)\n",
    "num=[1,3,5,7,9,2,4,6,8,0]\n",
    "print(11 in num)"
   ]
  },
  {
   "cell_type": "code",
   "execution_count": 17,
   "id": "91ca3c54",
   "metadata": {},
   "outputs": [
    {
     "name": "stdout",
     "output_type": "stream",
     "text": [
      "True\n"
     ]
    }
   ],
   "source": [
    "# Using membership operator(not) to check the presence of a particular element (Num List)\n",
    "num=[1,3,5,7,9,2,4,6,8,0]\n",
    "print(10 not in num)"
   ]
  },
  {
   "cell_type": "code",
   "execution_count": 18,
   "id": "4cb32ea2",
   "metadata": {},
   "outputs": [
    {
     "name": "stdout",
     "output_type": "stream",
     "text": [
      "a\n",
      "b\n",
      "c\n",
      "d\n",
      "e\n",
      "f\n",
      "g\n",
      "h\n",
      "i\n",
      "j\n"
     ]
    }
   ],
   "source": [
    "# Iterate and print all the elements in the list\n",
    "alp=['a','b','c','d','e','f','g','h','i','j'] # We declare a list \n",
    "for alphebet in alp: # For loop in each iteration takes one element from the list and stores it in the varable alphebet\n",
    "    print(alphebet)"
   ]
  },
  {
   "cell_type": "code",
   "execution_count": 19,
   "id": "575c075f",
   "metadata": {},
   "outputs": [
    {
     "data": {
      "text/plain": [
       "7"
      ]
     },
     "execution_count": 19,
     "metadata": {},
     "output_type": "execute_result"
    }
   ],
   "source": [
    "# Finding the length of a list\n",
    "list=[1,2.3,4.567,True,\"abcd\",'1234', 1-2j]\n",
    "len(list) # Returns the length of the list"
   ]
  },
  {
   "cell_type": "code",
   "execution_count": 20,
   "id": "03a88dec",
   "metadata": {},
   "outputs": [
    {
     "data": {
      "text/plain": [
       "9"
      ]
     },
     "execution_count": 20,
     "metadata": {},
     "output_type": "execute_result"
    }
   ],
   "source": [
    "# Finding the maximun value in the list\n",
    "Num=[1,2.3,3,4.5,5,6.7,7,8.9,9,0.1]\n",
    "max(num) # Returns the Maximun value of a list also works for string list"
   ]
  },
  {
   "cell_type": "code",
   "execution_count": 21,
   "id": "67d55045",
   "metadata": {},
   "outputs": [
    {
     "data": {
      "text/plain": [
       "'A'"
      ]
     },
     "execution_count": 21,
     "metadata": {},
     "output_type": "execute_result"
    }
   ],
   "source": [
    "# Finding the minimun value in a list\n",
    "Alp=['a','b','c','d','e','A','B','C','D','E']\n",
    "min(Alp)"
   ]
  },
  {
   "cell_type": "code",
   "execution_count": 22,
   "id": "1beddf00",
   "metadata": {},
   "outputs": [
    {
     "ename": "TypeError",
     "evalue": "'>' not supported between instances of 'str' and 'float'",
     "output_type": "error",
     "traceback": [
      "\u001b[1;31m---------------------------------------------------------------------------\u001b[0m",
      "\u001b[1;31mTypeError\u001b[0m                                 Traceback (most recent call last)",
      "\u001b[1;32m~\\AppData\\Local\\Temp/ipykernel_10308/1997602751.py\u001b[0m in \u001b[0;36m<module>\u001b[1;34m\u001b[0m\n\u001b[0;32m      1\u001b[0m \u001b[1;31m# Finding the Maxinum and Minimum value of a mixed vaeiable List\u001b[0m\u001b[1;33m\u001b[0m\u001b[1;33m\u001b[0m\u001b[0m\n\u001b[0;32m      2\u001b[0m \u001b[0mlist\u001b[0m\u001b[1;33m=\u001b[0m\u001b[1;33m[\u001b[0m\u001b[1;36m1\u001b[0m\u001b[1;33m,\u001b[0m\u001b[1;36m2.3\u001b[0m\u001b[1;33m,\u001b[0m\u001b[1;36m4.567\u001b[0m\u001b[1;33m,\u001b[0m\u001b[1;32mTrue\u001b[0m\u001b[1;33m,\u001b[0m\u001b[1;34m\"abcd\"\u001b[0m\u001b[1;33m,\u001b[0m\u001b[1;34m'1234'\u001b[0m\u001b[1;33m,\u001b[0m \u001b[1;36m1\u001b[0m\u001b[1;33m-\u001b[0m\u001b[1;36m2j\u001b[0m\u001b[1;33m]\u001b[0m\u001b[1;33m\u001b[0m\u001b[1;33m\u001b[0m\u001b[0m\n\u001b[1;32m----> 3\u001b[1;33m \u001b[0mmax\u001b[0m\u001b[1;33m(\u001b[0m\u001b[0mlist\u001b[0m\u001b[1;33m)\u001b[0m \u001b[1;31m# Error occurs due to presence of string and float variable in the list\u001b[0m\u001b[1;33m\u001b[0m\u001b[1;33m\u001b[0m\u001b[0m\n\u001b[0m\u001b[0;32m      4\u001b[0m \u001b[0mmax\u001b[0m\u001b[1;33m(\u001b[0m\u001b[0mlist\u001b[0m\u001b[1;33m)\u001b[0m\u001b[1;33m\u001b[0m\u001b[1;33m\u001b[0m\u001b[0m\n",
      "\u001b[1;31mTypeError\u001b[0m: '>' not supported between instances of 'str' and 'float'"
     ]
    }
   ],
   "source": [
    "# Finding the Maxinum and Minimum value of a mixed vaeiable List\n",
    "list=[1,2.3,4.567,True,\"abcd\",'1234', 1-2j]\n",
    "max(list) # Error occurs due to presence of string and float variable in the list\n",
    "max(list)"
   ]
  },
  {
   "cell_type": "code",
   "execution_count": 23,
   "id": "d62d4767",
   "metadata": {},
   "outputs": [
    {
     "name": "stdout",
     "output_type": "stream",
     "text": [
      "[1, 2.3, 4.567, True, 'abcd', '1234', (1-2j)]\n"
     ]
    },
    {
     "data": {
      "text/plain": [
       "[]"
      ]
     },
     "execution_count": 23,
     "metadata": {},
     "output_type": "execute_result"
    }
   ],
   "source": [
    "# Removing all elements from a list\n",
    "list=[1,2.3,4.567,True,\"abcd\",'1234', 1-2j]\n",
    "print(list)\n",
    "list.clear() # clear() function removes all elements from a list\n",
    "list"
   ]
  },
  {
   "cell_type": "code",
   "execution_count": 24,
   "id": "bf0ee8cc",
   "metadata": {},
   "outputs": [
    {
     "data": {
      "text/plain": [
       "[1]"
      ]
     },
     "execution_count": 24,
     "metadata": {},
     "output_type": "execute_result"
    }
   ],
   "source": [
    "# Adding elements to an empty list\n",
    "list=[]\n",
    "list.append(1) # append() functions adds one element to an list\n",
    "list"
   ]
  },
  {
   "cell_type": "code",
   "execution_count": 25,
   "id": "491f6dde",
   "metadata": {},
   "outputs": [
    {
     "name": "stdout",
     "output_type": "stream",
     "text": [
      "['a', 'b', 'c', 'd', 'e', 'f', 'g', 'h', 'i', 'j']\n",
      "['a', 'b', 'c', 'd', 'e', 'f', 'g', 'h', 'i', 'j']\n",
      "False\n"
     ]
    }
   ],
   "source": [
    "# Making a shallow copy of a existing list\n",
    "alp=['a','b','c','d','e','f','g','h','i','j']\n",
    "alphebets=alp.copy() # copy() function is used here to make a copy of the list and store it in a new variable\n",
    "print(alp)\n",
    "print(alphebets)\n",
    "print(alp is alphebets) # False because the two variables are different list objects"
   ]
  },
  {
   "cell_type": "code",
   "execution_count": 26,
   "id": "d553bc4f",
   "metadata": {},
   "outputs": [
    {
     "name": "stdout",
     "output_type": "stream",
     "text": [
      "['a', 'b', 'c', 'd', 'e', 'f', 'g', 'h', 'i', 'j']\n",
      "['a', 'b', 'c', 'd', 'e', 'f', 'g', 'h', 'i', 'j']\n",
      "True\n"
     ]
    }
   ],
   "source": [
    "# Copying a list using assignment operators\n",
    "alp=['a','b','c','d','e','f','g','h','i','j']\n",
    "alphebets=alp\n",
    "print(alp)\n",
    "print(alphebets)\n",
    "print(alp is alphebets) # True because the two variables are refering to th same list"
   ]
  },
  {
   "cell_type": "code",
   "execution_count": 27,
   "id": "fdb67aa4",
   "metadata": {},
   "outputs": [
    {
     "data": {
      "text/plain": [
       "4"
      ]
     },
     "execution_count": 27,
     "metadata": {},
     "output_type": "execute_result"
    }
   ],
   "source": [
    "# Counting the number of times an elements occurs in a list using count() function\n",
    "num=[1,2,1,3,1,4,1,5]\n",
    "num.count(1) "
   ]
  },
  {
   "cell_type": "code",
   "execution_count": 28,
   "id": "4a5dd33f",
   "metadata": {},
   "outputs": [
    {
     "data": {
      "text/plain": [
       "[1, 2, 3, 'a', 'b', 'c']"
      ]
     },
     "execution_count": 28,
     "metadata": {},
     "output_type": "execute_result"
    }
   ],
   "source": [
    "# Using extend() function to extend the current list by adding all items of the specified list(passed as an argument) to an end\n",
    "var=[1,2,3]\n",
    "apl=['a','b','c']\n",
    "var.extend(apl) # Here we add the elements of apl to var\n",
    "var"
   ]
  },
  {
   "cell_type": "code",
   "execution_count": 29,
   "id": "993944f7",
   "metadata": {},
   "outputs": [
    {
     "data": {
      "text/plain": [
       "3"
      ]
     },
     "execution_count": 29,
     "metadata": {},
     "output_type": "execute_result"
    }
   ],
   "source": [
    "# Finding the index position of an element using index() funtion\n",
    "alp=['a','b','c','d','e','f','g','h','i','j']\n",
    "alp.index('d')"
   ]
  },
  {
   "cell_type": "code",
   "execution_count": 30,
   "id": "02c5e2f5",
   "metadata": {},
   "outputs": [
    {
     "data": {
      "text/plain": [
       "['a', 'b', 'c', 'd', 'k', 'e', 'f', 'g', 'h', 'i', 'j']"
      ]
     },
     "execution_count": 30,
     "metadata": {},
     "output_type": "execute_result"
    }
   ],
   "source": [
    "# Inserting a new element at a specified index position using index function\n",
    "alp=['a','b','c','d','e','f','g','h','i','j']\n",
    "alp.insert(4,'k')\n",
    "alp"
   ]
  },
  {
   "cell_type": "code",
   "execution_count": 31,
   "id": "80fb0e67",
   "metadata": {},
   "outputs": [
    {
     "data": {
      "text/plain": [
       "['a', 'b', 'd', 'e', 'f', 'g', 'h', 'i']"
      ]
     },
     "execution_count": 31,
     "metadata": {},
     "output_type": "execute_result"
    }
   ],
   "source": [
    "# Removing an element from a list by indexing using pop() funtion\n",
    "alp=['a','b','c','d','e','f','g','h','i','j']\n",
    "alp.pop() # Deletes the last element\n",
    "alp.pop(2) # Deletes the element in that particular index value\n",
    "alp # 'j' and 'c' will be removed from the list"
   ]
  },
  {
   "cell_type": "code",
   "execution_count": 32,
   "id": "28edca2b",
   "metadata": {
    "scrolled": true
   },
   "outputs": [
    {
     "data": {
      "text/plain": [
       "['a', 'b', 'd', 'e', 'f', 'g', 'h', 'i', 'j', 'c']"
      ]
     },
     "execution_count": 32,
     "metadata": {},
     "output_type": "execute_result"
    }
   ],
   "source": [
    "# Removing an element from a list by using remove() methord\n",
    "alp=['a','b','c','d','e','f','g','h','i','j','c']\n",
    "alp.remove('c') # remove() deletes the first occurence of specified element\n",
    "alp # 'c' has been removed from the list"
   ]
  },
  {
   "cell_type": "code",
   "execution_count": 33,
   "id": "cad5233c",
   "metadata": {},
   "outputs": [
    {
     "data": {
      "text/plain": [
       "[(1-2j), '1234', 'abcd', True, 4.567, 2.3, 1]"
      ]
     },
     "execution_count": 33,
     "metadata": {},
     "output_type": "execute_result"
    }
   ],
   "source": [
    "# Reversing a list reverse() function\n",
    "list=[1,2.3,4.567,True,\"abcd\",'1234', 1-2j]\n",
    "list.reverse()\n",
    "list"
   ]
  },
  {
   "cell_type": "code",
   "execution_count": 34,
   "id": "1b5233e9",
   "metadata": {},
   "outputs": [
    {
     "name": "stdout",
     "output_type": "stream",
     "text": [
      "[78, 76, 6.7, 6.1, 5, 4.5, 4, 3, 2, 0]\n",
      "['gr', 'ge', 'g', 'd', 'b', 'a', 'G', 'A']\n"
     ]
    }
   ],
   "source": [
    "# We can use sort(reverse=True) syntax to create a sorted reverse list \n",
    "num_list=[3,2,5,6.7,4,78,76,0,4.5,6.1]\n",
    "num_list.sort(reverse=True)\n",
    "print(num_list)\n",
    "str_list=['a','d','g','b','gr','ge','G','A']\n",
    "str_list.sort(reverse=True)\n",
    "print(str_list)"
   ]
  },
  {
   "cell_type": "markdown",
   "id": "715bb797",
   "metadata": {},
   "source": [
    "## Note:\n",
    "### Splicing syntax - List[Start(Starting Position):Stop(Ending Position:Step(The Increment)]"
   ]
  },
  {
   "cell_type": "code",
   "execution_count": 35,
   "id": "c20eca5d",
   "metadata": {},
   "outputs": [
    {
     "name": "stdout",
     "output_type": "stream",
     "text": [
      "[1, 2.3, 4.567]\n",
      "[True, 'abcd']\n",
      "[1, 2.3, 4.567, True, 'abcd', '1234']\n",
      "[4.567, True, 'abcd', '1234']\n",
      "[1, 4.567, 'abcd']\n",
      "[1, True]\n",
      "[(1-2j), '1234', 'abcd', True, 4.567, 2.3, 1]\n"
     ]
    }
   ],
   "source": [
    "# Slicing of a List\n",
    "list=[1,2.3,4.567,True,\"abcd\",'1234', 1-2j]\n",
    "print(list[0:3])   # Slicing using positive indexing\n",
    "print(list[3:5])   # Slicing using positive indexing\n",
    "print(list[0:-1])  # Slicing using negative indexing\n",
    "print(list[-5:-1]) # Slicing using negative indexing\n",
    "print(list[0:5:2]) # Slicing with 2 increment\n",
    "print(list[0:5:3]) # Slicing with 3 increment\n",
    "print(list[::-1])  # Reversing a list using Slicing  "
   ]
  }
 ],
 "metadata": {
  "kernelspec": {
   "display_name": "Python 3 (ipykernel)",
   "language": "python",
   "name": "python3"
  },
  "language_info": {
   "codemirror_mode": {
    "name": "ipython",
    "version": 3
   },
   "file_extension": ".py",
   "mimetype": "text/x-python",
   "name": "python",
   "nbconvert_exporter": "python",
   "pygments_lexer": "ipython3",
   "version": "3.9.7"
  }
 },
 "nbformat": 4,
 "nbformat_minor": 5
}
