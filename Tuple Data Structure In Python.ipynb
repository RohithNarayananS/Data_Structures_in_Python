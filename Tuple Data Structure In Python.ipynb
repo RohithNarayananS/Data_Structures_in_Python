{
 "cells": [
  {
   "cell_type": "markdown",
   "id": "75920bc2",
   "metadata": {},
   "source": [
    "# Tuple Data Structure"
   ]
  },
  {
   "cell_type": "markdown",
   "id": "35191caa",
   "metadata": {},
   "source": [
    "## Basics of Tuple Functions And Methods:"
   ]
  },
  {
   "cell_type": "code",
   "execution_count": 1,
   "id": "5475004a",
   "metadata": {},
   "outputs": [
    {
     "name": "stdout",
     "output_type": "stream",
     "text": [
      "(1, 2, 3.4, 'a', '1', 'abc', '123', (2-5j))\n"
     ]
    },
    {
     "data": {
      "text/plain": [
       "tuple"
      ]
     },
     "execution_count": 1,
     "metadata": {},
     "output_type": "execute_result"
    }
   ],
   "source": [
    "# Tuple is Heterogeneous\n",
    "tup=(1,2,3.4,'a','1','abc','123',2-5j)\n",
    "print(tup)\n",
    "type(tup)"
   ]
  },
  {
   "cell_type": "code",
   "execution_count": 2,
   "id": "cf8f146a",
   "metadata": {},
   "outputs": [
    {
     "name": "stdout",
     "output_type": "stream",
     "text": [
      "(1, 2, 'a', 'b')\n"
     ]
    },
    {
     "data": {
      "text/plain": [
       "tuple"
      ]
     },
     "execution_count": 2,
     "metadata": {},
     "output_type": "execute_result"
    }
   ],
   "source": [
    "# Creating a tuple done with ()\n",
    "tup1=(1,2,'a','b')\n",
    "print(tup1)\n",
    "type(tup1)"
   ]
  },
  {
   "cell_type": "code",
   "execution_count": 3,
   "id": "809157d4",
   "metadata": {},
   "outputs": [
    {
     "name": "stdout",
     "output_type": "stream",
     "text": [
      "(3, 4, 'c', 'd')\n"
     ]
    },
    {
     "data": {
      "text/plain": [
       "tuple"
      ]
     },
     "execution_count": 3,
     "metadata": {},
     "output_type": "execute_result"
    }
   ],
   "source": [
    "# Creating a tuple done without the ()\n",
    "tup2=3,4,'c','d'\n",
    "print(tup2)\n",
    "type(tup2)"
   ]
  },
  {
   "cell_type": "code",
   "execution_count": 4,
   "id": "401a66c8",
   "metadata": {},
   "outputs": [
    {
     "ename": "TypeError",
     "evalue": "'tuple' object does not support item assignment",
     "output_type": "error",
     "traceback": [
      "\u001b[1;31m---------------------------------------------------------------------------\u001b[0m",
      "\u001b[1;31mTypeError\u001b[0m                                 Traceback (most recent call last)",
      "\u001b[1;32m~\\AppData\\Local\\Temp/ipykernel_12176/1128296683.py\u001b[0m in \u001b[0;36m<module>\u001b[1;34m\u001b[0m\n\u001b[0;32m      1\u001b[0m \u001b[1;31m# Tuple is not mutable\u001b[0m\u001b[1;33m\u001b[0m\u001b[1;33m\u001b[0m\u001b[0m\n\u001b[1;32m----> 2\u001b[1;33m \u001b[0mtup2\u001b[0m\u001b[1;33m[\u001b[0m\u001b[1;36m0\u001b[0m\u001b[1;33m]\u001b[0m\u001b[1;33m=\u001b[0m\u001b[1;34m'3'\u001b[0m \u001b[1;31m# Error because tuple is not mutable\u001b[0m\u001b[1;33m\u001b[0m\u001b[1;33m\u001b[0m\u001b[0m\n\u001b[0m\u001b[0;32m      3\u001b[0m \u001b[0mprint\u001b[0m\u001b[1;33m(\u001b[0m\u001b[0mtup2\u001b[0m\u001b[1;33m)\u001b[0m\u001b[1;33m\u001b[0m\u001b[1;33m\u001b[0m\u001b[0m\n",
      "\u001b[1;31mTypeError\u001b[0m: 'tuple' object does not support item assignment"
     ]
    }
   ],
   "source": [
    "# Tuple is not mutable\n",
    "tup2[0]='3' # Error because tuple is not mutable\n",
    "print(tup2)"
   ]
  },
  {
   "cell_type": "markdown",
   "id": "914073d8",
   "metadata": {},
   "source": [
    "## Note:\n",
    "### Since Tuple is Immutable, a Tuple needs lesser memory than Lists"
   ]
  },
  {
   "cell_type": "code",
   "execution_count": 5,
   "id": "31b2294b",
   "metadata": {},
   "outputs": [
    {
     "data": {
      "text/plain": [
       "tuple"
      ]
     },
     "execution_count": 5,
     "metadata": {},
     "output_type": "execute_result"
    }
   ],
   "source": [
    "# Tuple can have duplicates\n",
    "tup3=(1,1,1,12,4,'a','b','c','a')\n",
    "type(tup3)"
   ]
  },
  {
   "cell_type": "markdown",
   "id": "1a227cbb",
   "metadata": {},
   "source": [
    "### Tuple Operations:"
   ]
  },
  {
   "cell_type": "code",
   "execution_count": 6,
   "id": "b7628dd1",
   "metadata": {},
   "outputs": [
    {
     "data": {
      "text/plain": [
       "[1, 4, 5, 44, 64, 67, 99, 108]"
      ]
     },
     "execution_count": 6,
     "metadata": {},
     "output_type": "execute_result"
    }
   ],
   "source": [
    "# Sorting a tuple using sorted() function\n",
    "num=(1,5,4,99,44,64,67,108)\n",
    "sorted(num)"
   ]
  },
  {
   "cell_type": "code",
   "execution_count": 7,
   "id": "cf85a72d",
   "metadata": {},
   "outputs": [
    {
     "data": {
      "text/plain": [
       "[108, 99, 67, 64, 44, 5, 4, 1]"
      ]
     },
     "execution_count": 7,
     "metadata": {},
     "output_type": "execute_result"
    }
   ],
   "source": [
    "# Sorting a tuple in  reverse \n",
    "num=(1,5,4,99,44,64,67,108)\n",
    "sorted(num, reverse=True)"
   ]
  },
  {
   "cell_type": "code",
   "execution_count": 8,
   "id": "4478a6b0",
   "metadata": {},
   "outputs": [
    {
     "data": {
      "text/plain": [
       "tuple"
      ]
     },
     "execution_count": 8,
     "metadata": {},
     "output_type": "execute_result"
    }
   ],
   "source": [
    "#Note: The sorted() returns a list even if you pass a tuple to it\n",
    "num=(1,5,4,99,44,64,67,108)\n",
    "sorted(num, reverse=True)\n",
    "type(num)"
   ]
  },
  {
   "cell_type": "code",
   "execution_count": 9,
   "id": "aa973a1b",
   "metadata": {},
   "outputs": [
    {
     "name": "stdout",
     "output_type": "stream",
     "text": [
      "(1, 2, 'a', 'b', 1, 2, 'a', 'b')\n"
     ]
    }
   ],
   "source": [
    "# Repeating tuple elements\n",
    "tup1=(1,2,'a','b') \n",
    "n=2 # Numberof times the elements to be repeated\n",
    "tup2=tup1*n\n",
    "print(tup2)"
   ]
  },
  {
   "cell_type": "code",
   "execution_count": 10,
   "id": "3ca8f5de",
   "metadata": {},
   "outputs": [
    {
     "name": "stdout",
     "output_type": "stream",
     "text": [
      "(1, 2, 'a', 'b', 3, 4, 'c', 'd')\n"
     ]
    }
   ],
   "source": [
    "# Concatenating of two tuples using '+' operator\n",
    "tup1=(1,2,'a','b')\n",
    "tup2=3,4,'c','d'\n",
    "tup3=tup1+tup2 # Creating a new tuple from existing tuples using '+' operator\n",
    "print(tup3)"
   ]
  },
  {
   "cell_type": "code",
   "execution_count": 11,
   "id": "fae5525f",
   "metadata": {},
   "outputs": [
    {
     "name": "stdout",
     "output_type": "stream",
     "text": [
      "True\n",
      "True\n",
      "False\n",
      "False\n"
     ]
    }
   ],
   "source": [
    "# Using Membership Operators(in, not in) in a tuple\n",
    "tup=(1, 2, 'a', 'b', 3, 4, 'c', 'd')\n",
    "print(1 in tup)\n",
    "print('a' in tup)\n",
    "print(3 not in tup)\n",
    "print('d' not in tup)"
   ]
  },
  {
   "cell_type": "code",
   "execution_count": 12,
   "id": "8cb64178",
   "metadata": {},
   "outputs": [
    {
     "name": "stdout",
     "output_type": "stream",
     "text": [
      "1\n",
      "2\n",
      "a\n",
      "b\n",
      "3\n",
      "4\n",
      "c\n",
      "d\n"
     ]
    }
   ],
   "source": [
    "# Iterating through the elements of a Tuple\n",
    "tup=(1, 2, 'a', 'b', 3, 4, 'c', 'd')\n",
    "for n in tup: # For loop takes an element from tuple on every iteration and stores it in the variable n\n",
    "    print(n)"
   ]
  },
  {
   "cell_type": "code",
   "execution_count": 13,
   "id": "ae4cc197",
   "metadata": {},
   "outputs": [
    {
     "data": {
      "text/plain": [
       "8"
      ]
     },
     "execution_count": 13,
     "metadata": {},
     "output_type": "execute_result"
    }
   ],
   "source": [
    "# Counting the number of elements in a Tuple \n",
    "tup=(1, 2, 'a', 'b', 3, 4, 'c', 'd')\n",
    "len(tup) # Returns the length of tuple"
   ]
  },
  {
   "cell_type": "code",
   "execution_count": 14,
   "id": "dceda846",
   "metadata": {},
   "outputs": [
    {
     "name": "stdout",
     "output_type": "stream",
     "text": [
      "108\n",
      "1\n"
     ]
    }
   ],
   "source": [
    "# Returning the maximum and minimum element of a tuple\n",
    "num=(1,5,4,99,44,64,67,108)\n",
    "print(max(num))\n",
    "print(min(num))"
   ]
  },
  {
   "cell_type": "code",
   "execution_count": 15,
   "id": "59cdb09a",
   "metadata": {},
   "outputs": [
    {
     "ename": "TypeError",
     "evalue": "'>' not supported between instances of 'str' and 'int'",
     "output_type": "error",
     "traceback": [
      "\u001b[1;31m---------------------------------------------------------------------------\u001b[0m",
      "\u001b[1;31mTypeError\u001b[0m                                 Traceback (most recent call last)",
      "\u001b[1;32m~\\AppData\\Local\\Temp/ipykernel_12176/4174164475.py\u001b[0m in \u001b[0;36m<module>\u001b[1;34m\u001b[0m\n\u001b[0;32m      1\u001b[0m \u001b[1;31m# Returning the maximum and minimum element of a tuple\u001b[0m\u001b[1;33m\u001b[0m\u001b[1;33m\u001b[0m\u001b[0m\n\u001b[0;32m      2\u001b[0m \u001b[0mtup\u001b[0m\u001b[1;33m=\u001b[0m\u001b[1;33m(\u001b[0m\u001b[1;36m1\u001b[0m\u001b[1;33m,\u001b[0m \u001b[1;36m2\u001b[0m\u001b[1;33m,\u001b[0m \u001b[1;34m'a'\u001b[0m\u001b[1;33m,\u001b[0m \u001b[1;34m'b'\u001b[0m\u001b[1;33m,\u001b[0m \u001b[1;36m3\u001b[0m\u001b[1;33m,\u001b[0m \u001b[1;36m4\u001b[0m\u001b[1;33m,\u001b[0m \u001b[1;34m'c'\u001b[0m\u001b[1;33m,\u001b[0m \u001b[1;34m'd'\u001b[0m\u001b[1;33m)\u001b[0m\u001b[1;33m\u001b[0m\u001b[1;33m\u001b[0m\u001b[0m\n\u001b[1;32m----> 3\u001b[1;33m \u001b[0mprint\u001b[0m\u001b[1;33m(\u001b[0m\u001b[0mmax\u001b[0m\u001b[1;33m(\u001b[0m\u001b[0mtup\u001b[0m\u001b[1;33m)\u001b[0m\u001b[1;33m)\u001b[0m \u001b[1;31m# Error occurs because of presence of both string and integer variable\u001b[0m\u001b[1;33m\u001b[0m\u001b[1;33m\u001b[0m\u001b[0m\n\u001b[0m\u001b[0;32m      4\u001b[0m \u001b[0mprint\u001b[0m\u001b[1;33m(\u001b[0m\u001b[0mmin\u001b[0m\u001b[1;33m(\u001b[0m\u001b[0mtup\u001b[0m\u001b[1;33m)\u001b[0m\u001b[1;33m)\u001b[0m\u001b[1;33m\u001b[0m\u001b[1;33m\u001b[0m\u001b[0m\n",
      "\u001b[1;31mTypeError\u001b[0m: '>' not supported between instances of 'str' and 'int'"
     ]
    }
   ],
   "source": [
    "# Returning the maximum and minimum element of a tuple\n",
    "tup=(1, 2, 'a', 'b', 3, 4, 'c', 'd')\n",
    "print(max(tup)) # Error occurs because of presence of both string and integer variable\n",
    "print(min(tup))"
   ]
  },
  {
   "cell_type": "code",
   "execution_count": 16,
   "id": "c899aec0",
   "metadata": {},
   "outputs": [
    {
     "ename": "TypeError",
     "evalue": "'tuple' object doesn't support item deletion",
     "output_type": "error",
     "traceback": [
      "\u001b[1;31m---------------------------------------------------------------------------\u001b[0m",
      "\u001b[1;31mTypeError\u001b[0m                                 Traceback (most recent call last)",
      "\u001b[1;32m~\\AppData\\Local\\Temp/ipykernel_12176/1527088541.py\u001b[0m in \u001b[0;36m<module>\u001b[1;34m\u001b[0m\n\u001b[0;32m      1\u001b[0m \u001b[1;31m# Deleting an element of a Tuple\u001b[0m\u001b[1;33m\u001b[0m\u001b[1;33m\u001b[0m\u001b[0m\n\u001b[0;32m      2\u001b[0m \u001b[0mtup\u001b[0m\u001b[1;33m=\u001b[0m\u001b[1;33m(\u001b[0m\u001b[1;36m1\u001b[0m\u001b[1;33m,\u001b[0m \u001b[1;36m2\u001b[0m\u001b[1;33m,\u001b[0m \u001b[1;34m'a'\u001b[0m\u001b[1;33m,\u001b[0m \u001b[1;34m'b'\u001b[0m\u001b[1;33m,\u001b[0m \u001b[1;36m3\u001b[0m\u001b[1;33m,\u001b[0m \u001b[1;36m4\u001b[0m\u001b[1;33m,\u001b[0m \u001b[1;34m'c'\u001b[0m\u001b[1;33m,\u001b[0m \u001b[1;34m'd'\u001b[0m\u001b[1;33m)\u001b[0m\u001b[1;33m\u001b[0m\u001b[1;33m\u001b[0m\u001b[0m\n\u001b[1;32m----> 3\u001b[1;33m \u001b[1;32mdel\u001b[0m \u001b[0mtup\u001b[0m\u001b[1;33m[\u001b[0m\u001b[1;36m0\u001b[0m\u001b[1;33m]\u001b[0m \u001b[1;31m# Error occures because tuple cannot be changed once created\u001b[0m\u001b[1;33m\u001b[0m\u001b[1;33m\u001b[0m\u001b[0m\n\u001b[0m",
      "\u001b[1;31mTypeError\u001b[0m: 'tuple' object doesn't support item deletion"
     ]
    }
   ],
   "source": [
    "# Deleting an element of a Tuple\n",
    "tup=(1, 2, 'a', 'b', 3, 4, 'c', 'd')\n",
    "del tup[0] # Error occures because tuple cannot be changed once created"
   ]
  },
  {
   "cell_type": "code",
   "execution_count": 17,
   "id": "7c5a244b",
   "metadata": {},
   "outputs": [
    {
     "name": "stdout",
     "output_type": "stream",
     "text": [
      "(1, 2, 'a', 'b', 3, 4, 'c', 'd', [1, 2, 'a', 'b'])\n"
     ]
    },
    {
     "data": {
      "text/plain": [
       "tuple"
      ]
     },
     "execution_count": 17,
     "metadata": {},
     "output_type": "execute_result"
    }
   ],
   "source": [
    "# We can have a list as an element of tuple and we can add an element to that list\n",
    "tup=(1, 2, 'a', 'b', 3, 4, 'c', 'd',[1,2,'a'])\n",
    "tup[8].append('b')\n",
    "print(tup)\n",
    "type(tup)"
   ]
  },
  {
   "cell_type": "markdown",
   "id": "c8116f3b",
   "metadata": {},
   "source": [
    "## Note:\n",
    "### Splicing syntax - List[Start(Starting Position):Stop(Ending Position:Step(The Increment)]"
   ]
  },
  {
   "cell_type": "code",
   "execution_count": 18,
   "id": "b6143376",
   "metadata": {},
   "outputs": [
    {
     "name": "stdout",
     "output_type": "stream",
     "text": [
      "4\n",
      "d\n",
      "(1, 2, 'a', 'b')\n",
      "('a', 'b', 3, 4)\n",
      "(1, 'a', 3, 'c')\n",
      "(1, 'b', 'c')\n",
      "('d', 'c', 4, 3, 'b', 'a', 2, 1)\n"
     ]
    }
   ],
   "source": [
    "# Indexing and Slicing a tuple\n",
    "tup=(1, 2, 'a', 'b', 3, 4, 'c', 'd')\n",
    "print(tup[5])     # Indexing using positive indexing\n",
    "print(tup[-1])    # Indexing using negative indexing\n",
    "print(tup[0:4])   # Slicing using positive indexing\n",
    "print(tup[-6:-2]) # Slicing using negative indexing\n",
    "print(tup[0:7:2]) # Slicing using 2 Increment\n",
    "print(tup[0:7:3]) # Slicing using 3 Increment\n",
    "print(tup[::-1])  # Reversing using Slicing function"
   ]
  }
 ],
 "metadata": {
  "kernelspec": {
   "display_name": "Python 3 (ipykernel)",
   "language": "python",
   "name": "python3"
  },
  "language_info": {
   "codemirror_mode": {
    "name": "ipython",
    "version": 3
   },
   "file_extension": ".py",
   "mimetype": "text/x-python",
   "name": "python",
   "nbconvert_exporter": "python",
   "pygments_lexer": "ipython3",
   "version": "3.9.7"
  }
 },
 "nbformat": 4,
 "nbformat_minor": 5
}
