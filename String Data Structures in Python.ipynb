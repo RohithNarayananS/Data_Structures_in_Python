{
 "cells": [
  {
   "cell_type": "markdown",
   "id": "cecea376",
   "metadata": {},
   "source": [
    "# String Data Structure"
   ]
  },
  {
   "cell_type": "markdown",
   "id": "03a31652",
   "metadata": {},
   "source": [
    "## Indexing and Slicing And other Operations of String:"
   ]
  },
  {
   "cell_type": "code",
   "execution_count": 1,
   "id": "338a7469",
   "metadata": {},
   "outputs": [],
   "source": [
    "# Declare a string\n",
    "John_Wick='If you want Peace, prepare for War'"
   ]
  },
  {
   "cell_type": "code",
   "execution_count": 2,
   "id": "d8fbffb0",
   "metadata": {},
   "outputs": [
    {
     "data": {
      "text/plain": [
       "'I'"
      ]
     },
     "execution_count": 2,
     "metadata": {},
     "output_type": "execute_result"
    }
   ],
   "source": [
    "# Get only the first element\n",
    "John_Wick[0]"
   ]
  },
  {
   "cell_type": "code",
   "execution_count": 3,
   "id": "48b56d98",
   "metadata": {},
   "outputs": [
    {
     "data": {
      "text/plain": [
       "'If you want Peace, prepare for War'"
      ]
     },
     "execution_count": 3,
     "metadata": {},
     "output_type": "execute_result"
    }
   ],
   "source": [
    "# Display all elements of the Str\n",
    "John_Wick[0:]"
   ]
  },
  {
   "cell_type": "code",
   "execution_count": 4,
   "id": "7b46d0a9",
   "metadata": {},
   "outputs": [
    {
     "data": {
      "text/plain": [
       "'If you want Peace, prepare for War'"
      ]
     },
     "execution_count": 4,
     "metadata": {},
     "output_type": "execute_result"
    }
   ],
   "source": [
    "# Display all the elements of the string using [:]\n",
    "John_Wick[:]"
   ]
  },
  {
   "cell_type": "code",
   "execution_count": 5,
   "id": "c4a8486f",
   "metadata": {},
   "outputs": [
    {
     "data": {
      "text/plain": [
       "'If you want Peace, prepare for War'"
      ]
     },
     "execution_count": 5,
     "metadata": {},
     "output_type": "execute_result"
    }
   ],
   "source": [
    "# Display all the elements of the string using [:len()]\n",
    "John_Wick[:len(John_Wick)]"
   ]
  },
  {
   "cell_type": "code",
   "execution_count": 6,
   "id": "56603a8a",
   "metadata": {},
   "outputs": [
    {
     "data": {
      "text/plain": [
       "34"
      ]
     },
     "execution_count": 6,
     "metadata": {},
     "output_type": "execute_result"
    }
   ],
   "source": [
    "# Give the length of the string\n",
    "len(John_Wick)"
   ]
  },
  {
   "cell_type": "code",
   "execution_count": 7,
   "id": "53555aa9",
   "metadata": {},
   "outputs": [
    {
     "ename": "IndexError",
     "evalue": "string index out of range",
     "output_type": "error",
     "traceback": [
      "\u001b[1;31m---------------------------------------------------------------------------\u001b[0m",
      "\u001b[1;31mIndexError\u001b[0m                                Traceback (most recent call last)",
      "\u001b[1;32m~\\AppData\\Local\\Temp/ipykernel_9500/1453855532.py\u001b[0m in \u001b[0;36m<module>\u001b[1;34m\u001b[0m\n\u001b[1;32m----> 1\u001b[1;33m \u001b[0mJohn_Wick\u001b[0m\u001b[1;33m[\u001b[0m\u001b[1;36m34\u001b[0m\u001b[1;33m]\u001b[0m \u001b[1;31m# Error is occuring because the string only ranges from 0-33\u001b[0m\u001b[1;33m\u001b[0m\u001b[1;33m\u001b[0m\u001b[0m\n\u001b[0m",
      "\u001b[1;31mIndexError\u001b[0m: string index out of range"
     ]
    }
   ],
   "source": [
    "John_Wick[34] # Error is occuring because the string only ranges from 0-33"
   ]
  },
  {
   "cell_type": "code",
   "execution_count": 8,
   "id": "b6125d00",
   "metadata": {},
   "outputs": [
    {
     "data": {
      "text/plain": [
       "' you want Peace, prepare for Wa'"
      ]
     },
     "execution_count": 8,
     "metadata": {},
     "output_type": "execute_result"
    }
   ],
   "source": [
    "# Displaying the list frm the third leter til the second last letter\n",
    "John_Wick[2:-1]"
   ]
  },
  {
   "cell_type": "code",
   "execution_count": 9,
   "id": "306d1b7b",
   "metadata": {},
   "outputs": [
    {
     "data": {
      "text/plain": [
       "'raW rof eraperp ,ecaeP tnaw uoy fI'"
      ]
     },
     "execution_count": 9,
     "metadata": {},
     "output_type": "execute_result"
    }
   ],
   "source": [
    "# Reversing the string using Indexing\n",
    "John_Wick[::-1]"
   ]
  },
  {
   "cell_type": "code",
   "execution_count": 10,
   "id": "6f5e5f03",
   "metadata": {},
   "outputs": [
    {
     "data": {
      "text/plain": [
       "'r'"
      ]
     },
     "execution_count": 10,
     "metadata": {},
     "output_type": "execute_result"
    }
   ],
   "source": [
    "# Reversing the string and display the 30th last letter\n",
    "John_Wick[::-1][-30]"
   ]
  },
  {
   "cell_type": "code",
   "execution_count": 11,
   "id": "cac710a6",
   "metadata": {},
   "outputs": [
    {
     "data": {
      "text/plain": [
       "'If you want Peace, prepare for Biryani'"
      ]
     },
     "execution_count": 11,
     "metadata": {},
     "output_type": "execute_result"
    }
   ],
   "source": [
    "# Relacing 'War' with 'Biryani'\n",
    "John_Wick.replace('War','Biryani')"
   ]
  },
  {
   "cell_type": "code",
   "execution_count": 12,
   "id": "b55dd8ef",
   "metadata": {},
   "outputs": [
    {
     "data": {
      "text/plain": [
       "'IF YOU WANT PEACE, PREPARE FOR WAR'"
      ]
     },
     "execution_count": 12,
     "metadata": {},
     "output_type": "execute_result"
    }
   ],
   "source": [
    "# Convert the string to upper case\n",
    "John_Wick.upper()"
   ]
  },
  {
   "cell_type": "code",
   "execution_count": 13,
   "id": "18e98247",
   "metadata": {},
   "outputs": [
    {
     "data": {
      "text/plain": [
       "'if you want peace, prepare for war'"
      ]
     },
     "execution_count": 13,
     "metadata": {},
     "output_type": "execute_result"
    }
   ],
   "source": [
    "# Convert the string to lower case\n",
    "John_Wick.lower()"
   ]
  },
  {
   "cell_type": "code",
   "execution_count": 14,
   "id": "ff5abcdc",
   "metadata": {},
   "outputs": [
    {
     "data": {
      "text/plain": [
       "'If You Want Peace, Prepare For War'"
      ]
     },
     "execution_count": 14,
     "metadata": {},
     "output_type": "execute_result"
    }
   ],
   "source": [
    "# Convert the first letter of each word in the text to upper case\n",
    "John_Wick.title()"
   ]
  },
  {
   "cell_type": "markdown",
   "id": "2d682608",
   "metadata": {},
   "source": [
    "## Note:\n",
    "### The Above functions does not change the value of the string, instead it just prints the string with the given instruction.\n",
    "### Inorder to store using the the above function we need to assign the function to a certain variable."
   ]
  },
  {
   "cell_type": "code",
   "execution_count": 15,
   "id": "8202d2b2",
   "metadata": {},
   "outputs": [
    {
     "data": {
      "text/plain": [
       "'08#01#2002'"
      ]
     },
     "execution_count": 15,
     "metadata": {},
     "output_type": "execute_result"
    }
   ],
   "source": [
    "# Concatenate each element of the date with tag\n",
    "date=\"08\",\"01\",\"2002\"\n",
    "tag=\"#\"\n",
    "tag.join(date)"
   ]
  },
  {
   "cell_type": "code",
   "execution_count": 16,
   "id": "1914ccd9",
   "metadata": {},
   "outputs": [
    {
     "data": {
      "text/plain": [
       "'String$In$Python'"
      ]
     },
     "execution_count": 16,
     "metadata": {},
     "output_type": "execute_result"
    }
   ],
   "source": [
    "# Print the string by removing leading and tailing symbol/character here '$'\n",
    "verse=\"$$$$String$In$Python$$$$\"\n",
    "verse.strip('$') # Returns the string after the function is done"
   ]
  },
  {
   "cell_type": "code",
   "execution_count": 17,
   "id": "82f2e2e3",
   "metadata": {},
   "outputs": [
    {
     "data": {
      "text/plain": [
       "'String%In%Python'"
      ]
     },
     "execution_count": 17,
     "metadata": {},
     "output_type": "execute_result"
    }
   ],
   "source": [
    "# Print the string by removing tailing symbol/character here '%'\n",
    "verse=\"String%In%Python%%%%\"\n",
    "verse.strip('%')"
   ]
  },
  {
   "cell_type": "code",
   "execution_count": 18,
   "id": "51c4be66",
   "metadata": {},
   "outputs": [
    {
     "data": {
      "text/plain": [
       "'String$In$Python'"
      ]
     },
     "execution_count": 18,
     "metadata": {},
     "output_type": "execute_result"
    }
   ],
   "source": [
    "# Print the string by removing leading symbol/character here '$'\n",
    "verse=\"$$$$String$In$Python\"\n",
    "verse.strip('$')"
   ]
  }
 ],
 "metadata": {
  "kernelspec": {
   "display_name": "Python 3 (ipykernel)",
   "language": "python",
   "name": "python3"
  },
  "language_info": {
   "codemirror_mode": {
    "name": "ipython",
    "version": 3
   },
   "file_extension": ".py",
   "mimetype": "text/x-python",
   "name": "python",
   "nbconvert_exporter": "python",
   "pygments_lexer": "ipython3",
   "version": "3.9.7"
  }
 },
 "nbformat": 4,
 "nbformat_minor": 5
}
