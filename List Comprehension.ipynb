{
 "cells": [
  {
   "cell_type": "markdown",
   "id": "2cea5619",
   "metadata": {},
   "source": [
    "# Basics of List Comprehension"
   ]
  },
  {
   "cell_type": "code",
   "execution_count": 1,
   "id": "f265fa65",
   "metadata": {},
   "outputs": [
    {
     "name": "stdout",
     "output_type": "stream",
     "text": [
      "[1, 4, 9, 16, 25, 36, 49, 64, 81, 100, 121, 144, 169, 196, 225, 256, 289, 324, 361, 400]\n"
     ]
    }
   ],
   "source": [
    "# Creating a List using for Loop of a square values of numbers from 1 to 20\n",
    "square_num=[]\n",
    "for i in range(1,21):\n",
    "    square_num.append(i*i)\n",
    "print(square_num)"
   ]
  },
  {
   "cell_type": "code",
   "execution_count": 2,
   "id": "7b588268",
   "metadata": {},
   "outputs": [
    {
     "name": "stdout",
     "output_type": "stream",
     "text": [
      "[1, 4, 9, 16, 25, 36, 49, 64, 81, 100, 121, 144, 169, 196, 225, 256, 289, 324, 361, 400, 441, 484, 529, 576, 625, 676, 729, 784, 841, 900, 961, 1024, 1089, 1156, 1225, 1296, 1369, 1444, 1521, 1600, 1681, 1764, 1849, 1936, 2025, 2116, 2209, 2304, 2401, 2500, 2601, 2704, 2809, 2916, 3025, 3136, 3249, 3364, 3481, 3600, 3721, 3844, 3969, 4096, 4225, 4356, 4489, 4624, 4761, 4900, 5041, 5184, 5329, 5476, 5625, 5776, 5929, 6084, 6241, 6400, 6561, 6724, 6889, 7056, 7225, 7396, 7569, 7744, 7921, 8100, 8281, 8464, 8649, 8836, 9025, 9216, 9409, 9604, 9801, 10000]\n"
     ]
    }
   ],
   "source": [
    "# Creating a list using List Comprehension of a square values of numbers from 1 to 100\n",
    "sq_num=[i*i for i in range (1,101)]\n",
    "print(sq_num)"
   ]
  },
  {
   "cell_type": "markdown",
   "id": "a152c8c2",
   "metadata": {},
   "source": [
    "### For loop In List Comprehension:"
   ]
  },
  {
   "cell_type": "code",
   "execution_count": 3,
   "id": "752594d1",
   "metadata": {},
   "outputs": [
    {
     "name": "stdout",
     "output_type": "stream",
     "text": [
      "2\n",
      "4.6\n",
      "6\n",
      "9.0\n",
      "10\n",
      "13.4\n",
      "14\n",
      "17.8\n",
      "18\n",
      "0.2\n"
     ]
    }
   ],
   "source": [
    "# Example 1\n",
    "cost=[1,2.3,3,4.5,5,6.7,7,8.9,9,0.1] # creating a list\n",
    "for price in cost: # Using a For Loop to Iterate through each element in a list    \n",
    "    print(price*2)"
   ]
  },
  {
   "cell_type": "code",
   "execution_count": 4,
   "id": "4e4ed72f",
   "metadata": {},
   "outputs": [
    {
     "name": "stdout",
     "output_type": "stream",
     "text": [
      "[2, 4.6, 6, 9.0, 10, 13.4, 14, 17.8, 18, 0.2]\n"
     ]
    }
   ],
   "source": [
    "# Example 2\n",
    "cost=[1,2.3,3,4.5,5,6.7,7,8.9,9,0.1] # creating a list\n",
    "twice_cost=[]\n",
    "for price in cost: # Using a For Loop to Iterate through each element in a list\n",
    "    twice_cost.append(price*2)\n",
    "print(twice_cost)"
   ]
  }
 ],
 "metadata": {
  "kernelspec": {
   "display_name": "Python 3 (ipykernel)",
   "language": "python",
   "name": "python3"
  },
  "language_info": {
   "codemirror_mode": {
    "name": "ipython",
    "version": 3
   },
   "file_extension": ".py",
   "mimetype": "text/x-python",
   "name": "python",
   "nbconvert_exporter": "python",
   "pygments_lexer": "ipython3",
   "version": "3.9.7"
  }
 },
 "nbformat": 4,
 "nbformat_minor": 5
}
